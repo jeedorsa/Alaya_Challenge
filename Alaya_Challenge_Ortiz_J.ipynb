{
 "cells": [
  {
   "attachments": {},
   "cell_type": "markdown",
   "metadata": {},
   "source": [
    "##  DESAFIO TECNICO ALAYA"
   ]
  },
  {
   "cell_type": "code",
   "execution_count": 2,
   "metadata": {},
   "outputs": [],
   "source": [
    "from librerias import *\n",
    "%load_ext autoreload\n",
    "%autoreload 2"
   ]
  },
  {
   "cell_type": "code",
   "execution_count": 7,
   "metadata": {},
   "outputs": [
    {
     "ename": "SyntaxError",
     "evalue": "invalid syntax (982510946.py, line 4)",
     "output_type": "error",
     "traceback": [
      "\u001b[1;36m  File \u001b[1;32m\"C:\\Users\\jeortizs\\AppData\\Local\\Temp\\ipykernel_16004\\982510946.py\"\u001b[1;36m, line \u001b[1;32m4\u001b[0m\n\u001b[1;33m    composicion_df=composicion_df..rename(columns={'dump_datetime':'time'})\u001b[0m\n\u001b[1;37m                                  ^\u001b[0m\n\u001b[1;31mSyntaxError\u001b[0m\u001b[1;31m:\u001b[0m invalid syntax\n"
     ]
    }
   ],
   "source": [
    "# Importar los datos de composición y sensores en formato CSV\n",
    "composicion_df = pd.read_csv('composición.csv')\n",
    "sensores_df = pd.read_csv('sensores.csv')\n",
    "composicion_df=composicion_df..rename(columns={'dump_datetime':'time'})\n",
    "composicion_df.info()"
   ]
  },
  {
   "cell_type": "code",
   "execution_count": 6,
   "metadata": {},
   "outputs": [
    {
     "data": {
      "text/html": [
       "<div>\n",
       "<style scoped>\n",
       "    .dataframe tbody tr th:only-of-type {\n",
       "        vertical-align: middle;\n",
       "    }\n",
       "\n",
       "    .dataframe tbody tr th {\n",
       "        vertical-align: top;\n",
       "    }\n",
       "\n",
       "    .dataframe thead th {\n",
       "        text-align: right;\n",
       "    }\n",
       "</style>\n",
       "<table border=\"1\" class=\"dataframe\">\n",
       "  <thead>\n",
       "    <tr style=\"text-align: right;\">\n",
       "      <th></th>\n",
       "      <th>timestamp</th>\n",
       "      <th>tph_chancador</th>\n",
       "      <th>tph_stockpile</th>\n",
       "      <th>tph_sag</th>\n",
       "    </tr>\n",
       "  </thead>\n",
       "  <tbody>\n",
       "    <tr>\n",
       "      <th>0</th>\n",
       "      <td>2023-01-10 00:00:00</td>\n",
       "      <td>5340.158121</td>\n",
       "      <td>5098.480265</td>\n",
       "      <td>19.185771</td>\n",
       "    </tr>\n",
       "    <tr>\n",
       "      <th>1</th>\n",
       "      <td>2023-01-10 00:30:00</td>\n",
       "      <td>5381.974667</td>\n",
       "      <td>4660.560901</td>\n",
       "      <td>15.836400</td>\n",
       "    </tr>\n",
       "    <tr>\n",
       "      <th>2</th>\n",
       "      <td>2023-01-10 01:00:00</td>\n",
       "      <td>218.008133</td>\n",
       "      <td>5718.430019</td>\n",
       "      <td>18.628816</td>\n",
       "    </tr>\n",
       "    <tr>\n",
       "      <th>3</th>\n",
       "      <td>2023-01-10 01:30:00</td>\n",
       "      <td>4390.967360</td>\n",
       "      <td>4692.857639</td>\n",
       "      <td>15.852585</td>\n",
       "    </tr>\n",
       "    <tr>\n",
       "      <th>4</th>\n",
       "      <td>2023-01-10 02:00:00</td>\n",
       "      <td>5421.870894</td>\n",
       "      <td>5373.082419</td>\n",
       "      <td>23.838254</td>\n",
       "    </tr>\n",
       "    <tr>\n",
       "      <th>...</th>\n",
       "      <td>...</td>\n",
       "      <td>...</td>\n",
       "      <td>...</td>\n",
       "      <td>...</td>\n",
       "    </tr>\n",
       "    <tr>\n",
       "      <th>84</th>\n",
       "      <td>2023-01-11 18:00:00</td>\n",
       "      <td>5662.810059</td>\n",
       "      <td>5195.765490</td>\n",
       "      <td>20.519400</td>\n",
       "    </tr>\n",
       "    <tr>\n",
       "      <th>85</th>\n",
       "      <td>2023-01-11 18:30:00</td>\n",
       "      <td>5543.756564</td>\n",
       "      <td>5681.143083</td>\n",
       "      <td>19.077049</td>\n",
       "    </tr>\n",
       "    <tr>\n",
       "      <th>86</th>\n",
       "      <td>2023-01-11 19:00:00</td>\n",
       "      <td>5677.816979</td>\n",
       "      <td>4810.950420</td>\n",
       "      <td>21.041284</td>\n",
       "    </tr>\n",
       "    <tr>\n",
       "      <th>87</th>\n",
       "      <td>2023-01-11 19:30:00</td>\n",
       "      <td>4016.945716</td>\n",
       "      <td>5338.495622</td>\n",
       "      <td>25.386446</td>\n",
       "    </tr>\n",
       "    <tr>\n",
       "      <th>88</th>\n",
       "      <td>2023-01-11 20:00:00</td>\n",
       "      <td>5693.903690</td>\n",
       "      <td>5927.681030</td>\n",
       "      <td>18.457526</td>\n",
       "    </tr>\n",
       "  </tbody>\n",
       "</table>\n",
       "<p>89 rows × 4 columns</p>\n",
       "</div>"
      ],
      "text/plain": [
       "              timestamp  tph_chancador  tph_stockpile    tph_sag\n",
       "0   2023-01-10 00:00:00    5340.158121    5098.480265  19.185771\n",
       "1   2023-01-10 00:30:00    5381.974667    4660.560901  15.836400\n",
       "2   2023-01-10 01:00:00     218.008133    5718.430019  18.628816\n",
       "3   2023-01-10 01:30:00    4390.967360    4692.857639  15.852585\n",
       "4   2023-01-10 02:00:00    5421.870894    5373.082419  23.838254\n",
       "..                  ...            ...            ...        ...\n",
       "84  2023-01-11 18:00:00    5662.810059    5195.765490  20.519400\n",
       "85  2023-01-11 18:30:00    5543.756564    5681.143083  19.077049\n",
       "86  2023-01-11 19:00:00    5677.816979    4810.950420  21.041284\n",
       "87  2023-01-11 19:30:00    4016.945716    5338.495622  25.386446\n",
       "88  2023-01-11 20:00:00    5693.903690    5927.681030  18.457526\n",
       "\n",
       "[89 rows x 4 columns]"
      ]
     },
     "execution_count": 6,
     "metadata": {},
     "output_type": "execute_result"
    }
   ],
   "source": [
    "sensores_df"
   ]
  },
  {
   "cell_type": "code",
   "execution_count": null,
   "metadata": {},
   "outputs": [],
   "source": [
    "\n",
    "# Unir los datos por la columna de tiempo\n",
    "merged_df = pd.merge(composicion_df, sensores_df, on='tiempo')\n",
    "\n",
    "# Calcular la masa de cobre entrante a la planta en t/h\n",
    "merged_df['masa_cobre_entrante'] = merged_df['masa_entrante'] * merged_df['ley_cobre_entrante'] / 100\n",
    "\n",
    "# Calcular la masa de cobre en t/h que ingresa al Chancador\n",
    "merged_df['masa_cobre_chancador'] = merged_df['masa_cobre_entrante'] * merged_df['fraccion_chancador']\n",
    "\n",
    "# Calcular la masa de cobre en t/h que se almacena en el Stockpile\n",
    "merged_df['masa_cobre_stockpile'] = merged_df['masa_cobre_entrante'] - merged_df['masa_cobre_chancador']\n",
    "\n",
    "# Calcular la masa de cobre en t/h que sale del Stockpile hacia el molino SAG\n",
    "merged_df['masa_cobre_salida'] = merged_df['masa_cobre_stockpile'] * merged_df['fraccion_stockpile_sag']\n",
    "\n",
    "# Calcular la masa de cobre en t/h que entra al molino SAG\n",
    "merged_df['masa_cobre_sag'] = merged_df['masa_cobre_entrante'] + merged_df['masa_cobre_salida']\n",
    "\n",
    "# Calcular el porcentaje de cobre en el material que entra al molino SAG\n",
    "merged_df['porcentaje_cobre_sag'] = merged_df['masa_cobre_sag'] / (merged_df['masa_entrante'] + merged_df['masa_cobre_salida']) * 100\n",
    "\n",
    "# Mostrar el resultado en pantalla\n",
    "print(merged_df[['tiempo', 'porcentaje_cobre_sag']])"
   ]
  }
 ],
 "metadata": {
  "kernelspec": {
   "display_name": "base",
   "language": "python",
   "name": "python3"
  },
  "language_info": {
   "codemirror_mode": {
    "name": "ipython",
    "version": 3
   },
   "file_extension": ".py",
   "mimetype": "text/x-python",
   "name": "python",
   "nbconvert_exporter": "python",
   "pygments_lexer": "ipython3",
   "version": "3.9.13"
  },
  "orig_nbformat": 4,
  "vscode": {
   "interpreter": {
    "hash": "fcb42c81c7d0106ff5c2ee932e5ae27238ce1320fa606fa65c972bec5d8d1ed0"
   }
  }
 },
 "nbformat": 4,
 "nbformat_minor": 2
}
